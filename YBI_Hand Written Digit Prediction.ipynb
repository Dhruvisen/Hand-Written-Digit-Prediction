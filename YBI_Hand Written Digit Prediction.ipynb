{
 "cells": [
  {
   "cell_type": "code",
   "execution_count": 6,
   "id": "95179c25",
   "metadata": {},
   "outputs": [],
   "source": [
    "import pandas as pd\n",
    "import numpy as np\n",
    "import matplotlib.pyplot as plt"
   ]
  },
  {
   "cell_type": "code",
   "execution_count": 7,
   "id": "d7b3ac46",
   "metadata": {},
   "outputs": [],
   "source": [
    "from sklearn.datasets import load_digits"
   ]
  },
  {
   "cell_type": "code",
   "execution_count": 8,
   "id": "032338b4",
   "metadata": {},
   "outputs": [],
   "source": [
    "df = load_digits()"
   ]
  },
  {
   "cell_type": "code",
   "execution_count": 12,
   "id": "58a1126e",
   "metadata": {},
   "outputs": [
    {
     "data": {
      "image/png": "[encoded data removed]",
      "text/plain": [
       "<Figure size 1000x300 with 4 Axes>"
      ]
     },
     "metadata": {},
     "output_type": "display_data"
    }
   ],
   "source": [
    "_, axes = plt.subplots(nrows=1, ncols=4, figsize=(10,3))\n",
    "for ax,image,label in zip(axes, df.images, df.target):\n",
    "    ax.set_axis_off()\n",
    "    ax.imshow(image, cmap=plt.cm.gray_r, interpolation=\"nearest\")\n",
    "    #ax.set_title(\"Training:% 1\" % label)\n",
    "    ax.set_title(f\"Training: {label}\")\n"
   ]
  },
  {
   "cell_type": "code",
   "execution_count": 13,
   "id": "8d6acd92",
   "metadata": {},
   "outputs": [
    {
     "data": {
      "text/plain": [
       "(1797, 8, 8)"
      ]
     },
     "execution_count": 13,
     "metadata": {},
     "output_type": "execute_result"
    }
   ],
   "source": [
    "df.images.shape"
   ]
  },
  {
   "cell_type": "code",
   "execution_count": 14,
   "id": "f4752824",
   "metadata": {},
   "outputs": [
    {
     "data": {
      "text/plain": [
       "array([[ 0.,  0.,  5., 13.,  9.,  1.,  0.,  0.],\n",
       "       [ 0.,  0., 13., 15., 10., 15.,  5.,  0.],\n",
       "       [ 0.,  3., 15.,  2.,  0., 11.,  8.,  0.],\n",
       "       [ 0.,  4., 12.,  0.,  0.,  8.,  8.,  0.],\n",
       "       [ 0.,  5.,  8.,  0.,  0.,  9.,  8.,  0.],\n",
       "       [ 0.,  4., 11.,  0.,  1., 12.,  7.,  0.],\n",
       "       [ 0.,  2., 14.,  5., 10., 12.,  0.,  0.],\n",
       "       [ 0.,  0.,  6., 13., 10.,  0.,  0.,  0.]])"
      ]
     },
     "execution_count": 14,
     "metadata": {},
     "output_type": "execute_result"
    }
   ],
   "source": [
    "df.images[0]"
   ]
  },
  {
   "cell_type": "code",
   "execution_count": 15,
   "id": "36ccd825",
   "metadata": {},
   "outputs": [
    {
     "data": {
      "text/plain": [
       "(8, 8)"
      ]
     },
     "execution_count": 15,
     "metadata": {},
     "output_type": "execute_result"
    }
   ],
   "source": [
    "df.images[0].shape"
   ]
  },
  {
   "cell_type": "code",
   "execution_count": 16,
   "id": "698fec8c",
   "metadata": {},
   "outputs": [
    {
     "data": {
      "text/plain": [
       "1797"
      ]
     },
     "execution_count": 16,
     "metadata": {},
     "output_type": "execute_result"
    }
   ],
   "source": [
    "len(df.images)"
   ]
  },
  {
   "cell_type": "code",
   "execution_count": 17,
   "id": "1a7249ff",
   "metadata": {},
   "outputs": [],
   "source": [
    "n_samples= len(df.images)\n",
    "data= df.images.reshape((n_samples, -1))"
   ]
  },
  {
   "cell_type": "code",
   "execution_count": 18,
   "id": "52635315",
   "metadata": {},
   "outputs": [
    {
     "data": {
      "text/plain": [
       "array([ 0.,  0.,  5., 13.,  9.,  1.,  0.,  0.,  0.,  0., 13., 15., 10.,\n",
       "       15.,  5.,  0.,  0.,  3., 15.,  2.,  0., 11.,  8.,  0.,  0.,  4.,\n",
       "       12.,  0.,  0.,  8.,  8.,  0.,  0.,  5.,  8.,  0.,  0.,  9.,  8.,\n",
       "        0.,  0.,  4., 11.,  0.,  1., 12.,  7.,  0.,  0.,  2., 14.,  5.,\n",
       "       10., 12.,  0.,  0.,  0.,  0.,  6., 13., 10.,  0.,  0.,  0.])"
      ]
     },
     "execution_count": 18,
     "metadata": {},
     "output_type": "execute_result"
    }
   ],
   "source": [
    "data[0]"
   ]
  },
  {
   "cell_type": "code",
   "execution_count": 19,
   "id": "e5692668",
   "metadata": {},
   "outputs": [
    {
     "data": {
      "text/plain": [
       "(64,)"
      ]
     },
     "execution_count": 19,
     "metadata": {},
     "output_type": "execute_result"
    }
   ],
   "source": [
    "data[0].shape"
   ]
  },
  {
   "cell_type": "code",
   "execution_count": 20,
   "id": "6b67f949",
   "metadata": {},
   "outputs": [
    {
     "data": {
      "text/plain": [
       "(1797, 64)"
      ]
     },
     "execution_count": 20,
     "metadata": {},
     "output_type": "execute_result"
    }
   ],
   "source": [
    "data.shape"
   ]
  },
  {
   "cell_type": "code",
   "execution_count": 21,
   "id": "79721792",
   "metadata": {},
   "outputs": [
    {
     "data": {
      "text/plain": [
       "0.0"
      ]
     },
     "execution_count": 21,
     "metadata": {},
     "output_type": "execute_result"
    }
   ],
   "source": [
    "data.min()"
   ]
  },
  {
   "cell_type": "code",
   "execution_count": 22,
   "id": "d0701c34",
   "metadata": {},
   "outputs": [
    {
     "data": {
      "text/plain": [
       "16.0"
      ]
     },
     "execution_count": 22,
     "metadata": {},
     "output_type": "execute_result"
    }
   ],
   "source": [
    "data.max()"
   ]
  },
  {
   "cell_type": "code",
   "execution_count": 23,
   "id": "24848bbc",
   "metadata": {},
   "outputs": [],
   "source": [
    "data = data/16"
   ]
  },
  {
   "cell_type": "code",
   "execution_count": 24,
   "id": "ab195a5b",
   "metadata": {},
   "outputs": [
    {
     "data": {
      "text/plain": [
       "0.0"
      ]
     },
     "execution_count": 24,
     "metadata": {},
     "output_type": "execute_result"
    }
   ],
   "source": [
    "data.min()"
   ]
  },
  {
   "cell_type": "code",
   "execution_count": 25,
   "id": "18459746",
   "metadata": {},
   "outputs": [
    {
     "data": {
      "text/plain": [
       "1.0"
      ]
     },
     "execution_count": 25,
     "metadata": {},
     "output_type": "execute_result"
    }
   ],
   "source": [
    "data.max()"
   ]
  },
  {
   "cell_type": "code",
   "execution_count": 26,
   "id": "e5afbd60",
   "metadata": {},
   "outputs": [
    {
     "data": {
      "text/plain": [
       "array([0.    , 0.    , 0.3125, 0.8125, 0.5625, 0.0625, 0.    , 0.    ,\n",
       "       0.    , 0.    , 0.8125, 0.9375, 0.625 , 0.9375, 0.3125, 0.    ,\n",
       "       0.    , 0.1875, 0.9375, 0.125 , 0.    , 0.6875, 0.5   , 0.    ,\n",
       "       0.    , 0.25  , 0.75  , 0.    , 0.    , 0.5   , 0.5   , 0.    ,\n",
       "       0.    , 0.3125, 0.5   , 0.    , 0.    , 0.5625, 0.5   , 0.    ,\n",
       "       0.    , 0.25  , 0.6875, 0.    , 0.0625, 0.75  , 0.4375, 0.    ,\n",
       "       0.    , 0.125 , 0.875 , 0.3125, 0.625 , 0.75  , 0.    , 0.    ,\n",
       "       0.    , 0.    , 0.375 , 0.8125, 0.625 , 0.    , 0.    , 0.    ])"
      ]
     },
     "execution_count": 26,
     "metadata": {},
     "output_type": "execute_result"
    }
   ],
   "source": [
    "data[0]"
   ]
  },
  {
   "cell_type": "code",
   "execution_count": 27,
   "id": "bad87359",
   "metadata": {},
   "outputs": [],
   "source": [
    "from sklearn.model_selection import train_test_split"
   ]
  },
  {
   "cell_type": "code",
   "execution_count": 28,
   "id": "9888fb72",
   "metadata": {},
   "outputs": [],
   "source": [
    "x_train,x_test,y_train,y_test = train_test_split(data, df.target, test_size=0.3)"
   ]
  },
  {
   "cell_type": "code",
   "execution_count": 29,
   "id": "a1db3530",
   "metadata": {},
   "outputs": [
    {
     "data": {
      "text/plain": [
       "((1257, 64), (540, 64), (1257,), (540,))"
      ]
     },
     "execution_count": 29,
     "metadata": {},
     "output_type": "execute_result"
    }
   ],
   "source": [
    "x_train.shape,x_test.shape,y_train.shape,y_test.shape "
   ]
  },
  {
   "cell_type": "code",
   "execution_count": 34,
   "id": "1da9c51d",
   "metadata": {},
   "outputs": [],
   "source": [
    "from sklearn.ensemble import RandomForestClassifier"
   ]
  },
  {
   "cell_type": "code",
   "execution_count": 36,
   "id": "67423e92",
   "metadata": {},
   "outputs": [],
   "source": [
    "rf= RandomForestClassifier()"
   ]
  },
  {
   "cell_type": "code",
   "execution_count": 37,
   "id": "f5c24642",
   "metadata": {},
   "outputs": [
    {
     "data": {
      "text/plain": [
       "RandomForestClassifier()"
      ]
     },
     "execution_count": 37,
     "metadata": {},
     "output_type": "execute_result"
    }
   ],
   "source": [
    "rf.fit(x_train, y_train)"
   ]
  },
  {
   "cell_type": "code",
   "execution_count": 38,
   "id": "837ee705",
   "metadata": {},
   "outputs": [],
   "source": [
    "y_pred = rf.predict(x_test)"
   ]
  },
  {
   "cell_type": "code",
   "execution_count": 39,
   "id": "dc88f00b",
   "metadata": {},
   "outputs": [
    {
     "data": {
      "text/plain": [
       "array([9, 4, 0, 1, 6, 6, 6, 2, 3, 8, 4, 6, 1, 7, 3, 8, 4, 4, 2, 1, 3, 0,\n",
       "       1, 5, 7, 6, 7, 1, 4, 6, 5, 2, 6, 8, 5, 8, 7, 2, 1, 5, 9, 6, 4, 8,\n",
       "       5, 7, 1, 0, 5, 8, 4, 9, 7, 9, 9, 2, 8, 9, 9, 3, 0, 7, 1, 4, 7, 2,\n",
       "       0, 1, 9, 8, 4, 1, 8, 1, 4, 5, 0, 3, 6, 0, 1, 7, 8, 7, 6, 7, 3, 3,\n",
       "       3, 4, 4, 2, 3, 3, 8, 1, 0, 0, 9, 6, 9, 1, 6, 7, 8, 5, 6, 7, 8, 9,\n",
       "       2, 3, 1, 5, 3, 1, 2, 3, 3, 6, 4, 3, 0, 9, 1, 3, 4, 2, 3, 0, 7, 7,\n",
       "       6, 3, 7, 4, 0, 3, 0, 3, 2, 7, 1, 5, 9, 4, 9, 5, 4, 9, 4, 0, 6, 2,\n",
       "       5, 8, 6, 2, 1, 7, 4, 5, 9, 0, 9, 8, 1, 2, 4, 9, 8, 2, 6, 5, 5, 3,\n",
       "       7, 3, 2, 7, 7, 0, 0, 4, 9, 6, 0, 5, 2, 8, 0, 9, 1, 2, 5, 7, 4, 7,\n",
       "       1, 6, 6, 5, 6, 5, 5, 7, 6, 3, 7, 2, 8, 1, 9, 3, 9, 2, 4, 7, 4, 4,\n",
       "       5, 0, 1, 5, 2, 8, 1, 3, 9, 3, 8, 6, 5, 4, 0, 6, 2, 3, 3, 5, 1, 0,\n",
       "       5, 0, 3, 2, 8, 1, 8, 3, 8, 1, 1, 9, 9, 6, 8, 2, 3, 9, 7, 1, 9, 3,\n",
       "       4, 9, 3, 4, 4, 4, 6, 8, 3, 4, 8, 2, 4, 6, 3, 9, 0, 5, 2, 9, 8, 5,\n",
       "       7, 0, 1, 4, 4, 9, 1, 8, 3, 6, 6, 3, 0, 8, 6, 4, 3, 5, 4, 5, 6, 2,\n",
       "       1, 2, 7, 5, 3, 2, 7, 2, 3, 1, 2, 3, 7, 7, 8, 7, 5, 0, 6, 9, 7, 9,\n",
       "       9, 4, 4, 0, 1, 7, 2, 5, 4, 6, 2, 4, 9, 8, 2, 1, 8, 8, 6, 3, 0, 7,\n",
       "       3, 3, 3, 3, 6, 7, 6, 4, 3, 0, 2, 7, 7, 4, 7, 4, 5, 6, 2, 5, 0, 9,\n",
       "       2, 1, 8, 5, 0, 4, 3, 6, 7, 8, 6, 7, 6, 6, 9, 9, 5, 6, 9, 1, 8, 3,\n",
       "       3, 1, 2, 8, 0, 2, 6, 8, 6, 2, 8, 9, 3, 9, 6, 5, 6, 7, 2, 7, 8, 7,\n",
       "       7, 5, 3, 2, 2, 8, 2, 7, 4, 1, 9, 1, 9, 1, 8, 3, 9, 3, 8, 3, 7, 4,\n",
       "       3, 9, 8, 5, 7, 1, 6, 3, 9, 3, 0, 1, 4, 4, 2, 9, 6, 7, 0, 8, 3, 4,\n",
       "       9, 1, 2, 7, 5, 5, 0, 6, 7, 4, 2, 4, 2, 0, 2, 2, 8, 4, 0, 9, 0, 8,\n",
       "       8, 0, 0, 8, 9, 5, 6, 1, 0, 7, 3, 8, 0, 0, 6, 8, 4, 7, 7, 7, 7, 7,\n",
       "       3, 3, 3, 6, 2, 9, 5, 2, 0, 3, 7, 2, 8, 6, 0, 9, 7, 8, 8, 9, 2, 3,\n",
       "       9, 3, 4, 9, 0, 6, 3, 7, 1, 5, 7, 5])"
      ]
     },
     "execution_count": 39,
     "metadata": {},
     "output_type": "execute_result"
    }
   ],
   "source": [
    "y_pred"
   ]
  },
  {
   "cell_type": "code",
   "execution_count": 42,
   "id": "913d70cb",
   "metadata": {},
   "outputs": [],
   "source": [
    "from sklearn.metrics import confusion_matrix, classification_report"
   ]
  },
  {
   "cell_type": "code",
   "execution_count": 43,
   "id": "f725dc93",
   "metadata": {},
   "outputs": [
    {
     "name": "stdout",
     "output_type": "stream",
     "text": [
      "              precision    recall  f1-score   support\n",
      "\n",
      "           0       1.00      1.00      1.00        47\n",
      "           1       1.00      1.00      1.00        47\n",
      "           2       1.00      1.00      1.00        54\n",
      "           3       0.94      0.98      0.96        64\n",
      "           4       1.00      0.96      0.98        56\n",
      "           5       0.96      0.98      0.97        44\n",
      "           6       1.00      1.00      1.00        55\n",
      "           7       0.97      0.98      0.98        61\n",
      "           8       0.98      0.98      0.98        54\n",
      "           9       1.00      0.95      0.97        58\n",
      "\n",
      "    accuracy                           0.98       540\n",
      "   macro avg       0.98      0.98      0.98       540\n",
      "weighted avg       0.98      0.98      0.98       540\n",
      "\n"
     ]
    }
   ],
   "source": [
    "print(classification_report(y_test, y_pred))"
   ]
  },
  {
   "cell_type": "code",
   "execution_count": null,
   "id": "856f3ef1",
   "metadata": {},
   "outputs": [],
   "source": []
  }
 ],
 "metadata": {
  "kernelspec": {
   "display_name": "Python 3 (ipykernel)",
   "language": "python",
   "name": "python3"
  },
  "language_info": {
   "codemirror_mode": {
    "name": "ipython",
    "version": 3
   },
   "file_extension": ".py",
   "mimetype": "text/x-python",
   "name": "python",
   "nbconvert_exporter": "python",
   "pygments_lexer": "ipython3",
   "version": "3.9.13"
  }
 },
 "nbformat": 4,
 "nbformat_minor": 5
}
